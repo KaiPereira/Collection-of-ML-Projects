{
 "cells": [
  {
   "cell_type": "code",
   "execution_count": 13,
   "metadata": {},
   "outputs": [],
   "source": [
    "import pandas as pd\n",
    "from sklearn.ensemble import RandomForestRegressor\n",
    "from sklearn.metrics import mean_absolute_error\n",
    "from sklearn import model_selection\n",
    "import matplotlib.pyplot as plt\n",
    "from sklearn.preprocessing import PolynomialFeatures\n",
    "from sklearn.pipeline import make_pipeline\n",
    "\n",
    "# Our data\n",
    "data = pd.read_csv(\"./train.csv\")\n",
    "\n",
    "\n",
    "# Our objective\n",
    "objective = data[[\"median_house_value\"]]\n",
    "\n",
    "\n",
    "# Our categorical variables\n",
    "categorical_vars = [\"housing_median_age\", \"total_rooms\", \"total_bedrooms\", \"population\", \"households\", \"median_income\"]\n",
    "training = data[categorical_vars]\n",
    "\n",
    "\n",
    "# Split our data\n",
    "train_x, test_x, train_y, test_y = model_selection.train_test_split(training, objective)\n",
    "\n",
    "\n",
    "# Our model\n",
    "model = make_pipeline(PolynomialFeatures(3), RandomForestRegressor())\n",
    "# Train our model\n",
    "model.fit(train_x, train_y.values.ravel())\n",
    "# Predict housing prices using our model\n",
    "prediction = model.predict(test_x)\n",
    "\n",
    "\n",
    "# Get our accuracy\n",
    "accuracy = mean_absolute_error(prediction, test_y)\n",
    "print(\"MODEL ACCURACY: {}\".format(accuracy))\n",
    "\n",
    "\n",
    "# Plot our data\n",
    "plt.scatter(prediction, test_y)\n",
    "plt.show()"
   ]
  }
 ],
 "metadata": {
  "kernelspec": {
   "display_name": "Python 3",
   "language": "python",
   "name": "python3"
  },
  "language_info": {
   "codemirror_mode": {
    "name": "ipython",
    "version": 3
   },
   "file_extension": ".py",
   "mimetype": "text/x-python",
   "name": "python",
   "nbconvert_exporter": "python",
   "pygments_lexer": "ipython3",
   "version": "3.10.4"
  },
  "orig_nbformat": 4,
  "vscode": {
   "interpreter": {
    "hash": "3ad933181bd8a04b432d3370b9dc3b0662ad032c4dfaa4e4f1596c548f763858"
   }
  }
 },
 "nbformat": 4,
 "nbformat_minor": 2
}
