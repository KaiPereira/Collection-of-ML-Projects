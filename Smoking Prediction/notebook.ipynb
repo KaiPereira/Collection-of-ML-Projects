{
 "cells": [
  {
   "cell_type": "code",
   "execution_count": 1,
   "metadata": {},
   "outputs": [],
   "source": [
    "import pandas as pd\n",
    "from sklearn.metrics import accuracy_score\n",
    "from sklearn.ensemble import RandomForestClassifier\n",
    "from sklearn import model_selection\n",
    "from sklearn.linear_model import LinearRegression"
   ]
  },
  {
   "cell_type": "code",
   "execution_count": 126,
   "metadata": {},
   "outputs": [
    {
     "name": "stdout",
     "output_type": "stream",
     "text": [
      "[0 1 0 ... 1 1 0]\n",
      "Error rate: 0.7298221614227086\n"
     ]
    }
   ],
   "source": [
    "# Grab our datasets\n",
    "test = pd.read_csv(\"./test.csv\")\n",
    "train = pd.read_csv(\"./train.csv\")\n",
    "\n",
    "test = test.sample(frac=0.15)\n",
    "train = train.sample(frac=0.15)\n",
    "\n",
    "# Choose our variables and testing\n",
    "# Our testing variables\n",
    "train_obvjective_variable = [\"smoking\"]\n",
    "train_objective = train[train_obvjective_variable]\n",
    "\n",
    "\n",
    "# Our training variables\n",
    "training_variables = [\"weight(kg)\", \"systolic\", \"relaxation\", \"triglyceride\", \"HDL\", \"LDL\", \"hemoglobin\", \"serum creatinine\", \"AST\", \"ALT\", \"Gtp\", \"dental caries\", \"Urine protein\"]\n",
    "training_dataset_train = train[training_variables]\n",
    "testing_dataset_train = test[training_variables]\n",
    "\n",
    "\n",
    "# Categorical into numerical\n",
    "training_dataset_train = pd.get_dummies(training_dataset_train)\n",
    "testing_dataset_train = pd.get_dummies(testing_dataset_train)\n",
    "\n",
    "\n",
    "# Split our data into y and x\n",
    "train_x, test_x, train_y, test_y = model_selection.train_test_split(training_dataset_train, train_objective.values.ravel())\n",
    "\n",
    "\n",
    "# Our model data\n",
    "model = RandomForestClassifier(n_estimators=100)\n",
    "# Train our model\n",
    "model.fit(train_x, train_y)\n",
    "# Predict the smoking\n",
    "prediction = model.predict(test_x)\n",
    "\n",
    "# Print our results for fun\n",
    "print(prediction)\n",
    "\n",
    "# Get the accuracy of the model\n",
    "accuracy = accuracy_score(test_y, prediction)\n",
    "print(\"Error rate: {}\".format(accuracy))\n",
    "\n",
    "\n",
    "\n",
    "\n"
   ]
  }
 ],
 "metadata": {
  "kernelspec": {
   "display_name": "Python 3",
   "language": "python",
   "name": "python3"
  },
  "language_info": {
   "codemirror_mode": {
    "name": "ipython",
    "version": 3
   },
   "file_extension": ".py",
   "mimetype": "text/x-python",
   "name": "python",
   "nbconvert_exporter": "python",
   "pygments_lexer": "ipython3",
   "version": "3.10.4 (main, Dec 19 2022, 20:24:16) [GCC 9.4.0]"
  },
  "orig_nbformat": 4,
  "vscode": {
   "interpreter": {
    "hash": "3ad933181bd8a04b432d3370b9dc3b0662ad032c4dfaa4e4f1596c548f763858"
   }
  }
 },
 "nbformat": 4,
 "nbformat_minor": 2
}
